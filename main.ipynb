{
 "cells": [
  {
   "cell_type": "code",
   "execution_count": 161,
   "id": "initial_id",
   "metadata": {
    "execution": {
     "iopub.execute_input": "2024-02-29T17:45:35.940585Z",
     "iopub.status.busy": "2024-02-29T17:45:35.939589Z",
     "iopub.status.idle": "2024-02-29T17:45:37.945538Z",
     "shell.execute_reply": "2024-02-29T17:45:37.945538Z",
     "shell.execute_reply.started": "2024-02-29T17:45:35.940585Z"
    },
    "ExecuteTime": {
     "end_time": "2024-03-02T15:04:03.566088800Z",
     "start_time": "2024-03-02T15:04:03.514155700Z"
    }
   },
   "outputs": [],
   "source": [
    "import pandas as pd\n",
    "import matplotlib.pyplot as plt\n",
    "import seaborn as sns\n",
    "import gradio as gr\n",
    "from sklearn.model_selection import train_test_split\n",
    "from sklearn.ensemble import RandomForestRegressor\n",
    "from sklearn.metrics import mean_absolute_error\n",
    "\n",
    "df = pd.read_csv(\"data.csv\")"
   ]
  },
  {
   "cell_type": "code",
   "execution_count": 162,
   "id": "ba943b8d-7589-4d8f-9f4a-54aec39b194f",
   "metadata": {
    "execution": {
     "iopub.execute_input": "2024-02-29T17:45:41.497197Z",
     "iopub.status.busy": "2024-02-29T17:45:41.496200Z",
     "iopub.status.idle": "2024-02-29T17:45:41.514267Z",
     "shell.execute_reply": "2024-02-29T17:45:41.514267Z",
     "shell.execute_reply.started": "2024-02-29T17:45:41.497197Z"
    },
    "ExecuteTime": {
     "end_time": "2024-03-02T15:04:09.302100700Z",
     "start_time": "2024-03-02T15:04:09.283052800Z"
    }
   },
   "outputs": [],
   "source": [
    "# Create a mapping dictionary to convert existing IDs to new IDs starting from 1\n",
    "id_mapping = {old_id: new_id for new_id, old_id in enumerate(df['Id'].unique(), start=1)}\n",
    "\n",
    "# Replace existing IDs with new IDs\n",
    "df['Id'] = df['Id'].map(id_mapping)"
   ]
  },
  {
   "cell_type": "code",
   "execution_count": 163,
   "id": "f5a11c2086d201e3",
   "metadata": {
    "collapsed": false,
    "execution": {
     "iopub.execute_input": "2024-03-02T14:18:31.563861Z",
     "iopub.status.busy": "2024-03-02T14:18:31.562863Z",
     "iopub.status.idle": "2024-03-02T14:18:31.580735Z",
     "shell.execute_reply": "2024-03-02T14:18:31.579734Z",
     "shell.execute_reply.started": "2024-03-02T14:18:31.563861Z"
    },
    "ExecuteTime": {
     "end_time": "2024-03-02T15:04:13.710428600Z",
     "start_time": "2024-03-02T15:04:13.679126600Z"
    }
   },
   "outputs": [],
   "source": [
    "# Convert ActivityDate to datetime format\n",
    "df['ActivityDate'] = pd.to_datetime(df['ActivityDate'])"
   ]
  },
  {
   "cell_type": "code",
   "execution_count": 164,
   "id": "edd521d7-a016-42a7-8225-f07fb63ac2db",
   "metadata": {
    "execution": {
     "iopub.execute_input": "2024-03-02T14:18:34.626100Z",
     "iopub.status.busy": "2024-03-02T14:18:34.625103Z",
     "iopub.status.idle": "2024-03-02T14:18:34.642695Z",
     "shell.execute_reply": "2024-03-02T14:18:34.641694Z",
     "shell.execute_reply.started": "2024-03-02T14:18:34.626100Z"
    },
    "ExecuteTime": {
     "end_time": "2024-03-02T15:04:16.210948900Z",
     "start_time": "2024-03-02T15:04:16.193587700Z"
    }
   },
   "outputs": [
    {
     "data": {
      "text/plain": "Id                             0\nActivityDate                   0\nTotalSteps                     0\nTotalDistance               1880\nTrackerDistance             1880\nLoggedActivitiesDistance    1880\nVeryActiveDistance          1880\nModeratelyActiveDistance    1880\nLightActiveDistance         1880\nSedentaryActiveDistance     1880\nVeryActiveMinutes           2820\nFairlyActiveMinutes         2820\nLightlyActiveMinutes        2820\nSedentaryMinutes            2820\nCalories                    2820\nTotalSleepRecords           3347\nTotalMinutesAsleep          3347\nTotalTimeInBed              3347\ndtype: int64"
     },
     "execution_count": 164,
     "metadata": {},
     "output_type": "execute_result"
    }
   ],
   "source": [
    "df.isna().sum()"
   ]
  },
  {
   "cell_type": "code",
   "execution_count": 165,
   "id": "ba057400-806b-4c34-8c46-f9be8e7bc157",
   "metadata": {
    "execution": {
     "iopub.execute_input": "2024-02-29T17:45:56.209257Z",
     "iopub.status.busy": "2024-02-29T17:45:56.208260Z",
     "iopub.status.idle": "2024-02-29T17:45:56.237366Z",
     "shell.execute_reply": "2024-02-29T17:45:56.236364Z",
     "shell.execute_reply.started": "2024-02-29T17:45:56.209257Z"
    },
    "ExecuteTime": {
     "end_time": "2024-03-02T15:04:22.764206600Z",
     "start_time": "2024-03-02T15:04:22.714089800Z"
    }
   },
   "outputs": [
    {
     "data": {
      "text/plain": "      Id ActivityDate  TotalSteps  TotalDistance  TrackerDistance  \\\n0      1   2016-04-12       13162       8.500000         8.500000   \n1      1   2016-04-13       10735       6.970000         6.970000   \n2      1   2016-04-14       10460       6.740000         6.740000   \n3      1   2016-04-15        9762       6.280000         6.280000   \n4      1   2016-04-16       12669       8.160000         8.160000   \n...   ..          ...         ...            ...              ...   \n3755  33   2016-05-08       10686      99.151234         9.520122   \n3756  33   2016-05-09       20226      99.151234         9.520122   \n3757  33   2016-05-10       10733      99.151234         9.520122   \n3758  33   2016-05-11       21420      99.151234         9.520122   \n3759  33   2016-05-12        8064      99.151234         9.520122   \n\n      LoggedActivitiesDistance  VeryActiveDistance  ModeratelyActiveDistance  \\\n0                     0.000000            1.880000                  0.550000   \n1                     0.000000            1.570000                  0.690000   \n2                     0.000000            2.440000                  0.400000   \n3                     0.000000            2.140000                  1.260000   \n4                     0.000000            2.710000                  0.410000   \n...                        ...                 ...                       ...   \n3755                 10.636532            0.752144                  1.954181   \n3756                 10.636532            0.752144                  1.954181   \n3757                 10.636532            0.752144                  1.954181   \n3758                 10.636532            0.752144                  1.954181   \n3759                 10.636532            0.752144                  1.954181   \n\n      LightActiveDistance  SedentaryActiveDistance  VeryActiveMinutes  \\\n0                6.060000                 0.000000          25.000000   \n1                4.710000                 0.000000          21.000000   \n2                3.910000                 0.000000          30.000000   \n3                2.830000                 0.000000          29.000000   \n4                5.040000                 0.000000          36.000000   \n...                   ...                      ...                ...   \n3755             1.954181                 0.752144          21.164894   \n3756             1.954181                 0.752144          21.164894   \n3757             1.954181                 0.752144          21.164894   \n3758             1.954181                 0.752144          21.164894   \n3759             1.954181                 0.752144          21.164894   \n\n      FairlyActiveMinutes  LightlyActiveMinutes  SedentaryMinutes  \\\n0               13.000000            328.000000        728.000000   \n1               19.000000            217.000000        776.000000   \n2               11.000000            181.000000       1218.000000   \n3               34.000000            209.000000        726.000000   \n4               10.000000            221.000000        773.000000   \n...                   ...                   ...               ...   \n3755            13.564894            192.812766        991.210638   \n3756            13.564894            192.812766        991.210638   \n3757            13.564894            192.812766        991.210638   \n3758            13.564894            192.812766        991.210638   \n3759            13.564894            192.812766        991.210638   \n\n         Calories  TotalSleepRecords  TotalMinutesAsleep  TotalTimeInBed  \n0     1985.000000           1.000000          327.000000      346.000000  \n1     1797.000000           2.000000          384.000000      407.000000  \n2     1776.000000           1.000000          412.000000      442.000000  \n3     1745.000000           2.000000          340.000000      367.000000  \n4     1863.000000           1.000000          700.000000      712.000000  \n...           ...                ...                 ...             ...  \n3755  2303.609574           1.118644          419.467312      458.639225  \n3756  2303.609574           1.118644          419.467312      458.639225  \n3757  2303.609574           1.118644          419.467312      458.639225  \n3758  2303.609574           1.118644          419.467312      458.639225  \n3759  2303.609574           1.118644          419.467312      458.639225  \n\n[3760 rows x 18 columns]",
      "text/html": "<div>\n<style scoped>\n    .dataframe tbody tr th:only-of-type {\n        vertical-align: middle;\n    }\n\n    .dataframe tbody tr th {\n        vertical-align: top;\n    }\n\n    .dataframe thead th {\n        text-align: right;\n    }\n</style>\n<table border=\"1\" class=\"dataframe\">\n  <thead>\n    <tr style=\"text-align: right;\">\n      <th></th>\n      <th>Id</th>\n      <th>ActivityDate</th>\n      <th>TotalSteps</th>\n      <th>TotalDistance</th>\n      <th>TrackerDistance</th>\n      <th>LoggedActivitiesDistance</th>\n      <th>VeryActiveDistance</th>\n      <th>ModeratelyActiveDistance</th>\n      <th>LightActiveDistance</th>\n      <th>SedentaryActiveDistance</th>\n      <th>VeryActiveMinutes</th>\n      <th>FairlyActiveMinutes</th>\n      <th>LightlyActiveMinutes</th>\n      <th>SedentaryMinutes</th>\n      <th>Calories</th>\n      <th>TotalSleepRecords</th>\n      <th>TotalMinutesAsleep</th>\n      <th>TotalTimeInBed</th>\n    </tr>\n  </thead>\n  <tbody>\n    <tr>\n      <th>0</th>\n      <td>1</td>\n      <td>2016-04-12</td>\n      <td>13162</td>\n      <td>8.500000</td>\n      <td>8.500000</td>\n      <td>0.000000</td>\n      <td>1.880000</td>\n      <td>0.550000</td>\n      <td>6.060000</td>\n      <td>0.000000</td>\n      <td>25.000000</td>\n      <td>13.000000</td>\n      <td>328.000000</td>\n      <td>728.000000</td>\n      <td>1985.000000</td>\n      <td>1.000000</td>\n      <td>327.000000</td>\n      <td>346.000000</td>\n    </tr>\n    <tr>\n      <th>1</th>\n      <td>1</td>\n      <td>2016-04-13</td>\n      <td>10735</td>\n      <td>6.970000</td>\n      <td>6.970000</td>\n      <td>0.000000</td>\n      <td>1.570000</td>\n      <td>0.690000</td>\n      <td>4.710000</td>\n      <td>0.000000</td>\n      <td>21.000000</td>\n      <td>19.000000</td>\n      <td>217.000000</td>\n      <td>776.000000</td>\n      <td>1797.000000</td>\n      <td>2.000000</td>\n      <td>384.000000</td>\n      <td>407.000000</td>\n    </tr>\n    <tr>\n      <th>2</th>\n      <td>1</td>\n      <td>2016-04-14</td>\n      <td>10460</td>\n      <td>6.740000</td>\n      <td>6.740000</td>\n      <td>0.000000</td>\n      <td>2.440000</td>\n      <td>0.400000</td>\n      <td>3.910000</td>\n      <td>0.000000</td>\n      <td>30.000000</td>\n      <td>11.000000</td>\n      <td>181.000000</td>\n      <td>1218.000000</td>\n      <td>1776.000000</td>\n      <td>1.000000</td>\n      <td>412.000000</td>\n      <td>442.000000</td>\n    </tr>\n    <tr>\n      <th>3</th>\n      <td>1</td>\n      <td>2016-04-15</td>\n      <td>9762</td>\n      <td>6.280000</td>\n      <td>6.280000</td>\n      <td>0.000000</td>\n      <td>2.140000</td>\n      <td>1.260000</td>\n      <td>2.830000</td>\n      <td>0.000000</td>\n      <td>29.000000</td>\n      <td>34.000000</td>\n      <td>209.000000</td>\n      <td>726.000000</td>\n      <td>1745.000000</td>\n      <td>2.000000</td>\n      <td>340.000000</td>\n      <td>367.000000</td>\n    </tr>\n    <tr>\n      <th>4</th>\n      <td>1</td>\n      <td>2016-04-16</td>\n      <td>12669</td>\n      <td>8.160000</td>\n      <td>8.160000</td>\n      <td>0.000000</td>\n      <td>2.710000</td>\n      <td>0.410000</td>\n      <td>5.040000</td>\n      <td>0.000000</td>\n      <td>36.000000</td>\n      <td>10.000000</td>\n      <td>221.000000</td>\n      <td>773.000000</td>\n      <td>1863.000000</td>\n      <td>1.000000</td>\n      <td>700.000000</td>\n      <td>712.000000</td>\n    </tr>\n    <tr>\n      <th>...</th>\n      <td>...</td>\n      <td>...</td>\n      <td>...</td>\n      <td>...</td>\n      <td>...</td>\n      <td>...</td>\n      <td>...</td>\n      <td>...</td>\n      <td>...</td>\n      <td>...</td>\n      <td>...</td>\n      <td>...</td>\n      <td>...</td>\n      <td>...</td>\n      <td>...</td>\n      <td>...</td>\n      <td>...</td>\n      <td>...</td>\n    </tr>\n    <tr>\n      <th>3755</th>\n      <td>33</td>\n      <td>2016-05-08</td>\n      <td>10686</td>\n      <td>99.151234</td>\n      <td>9.520122</td>\n      <td>10.636532</td>\n      <td>0.752144</td>\n      <td>1.954181</td>\n      <td>1.954181</td>\n      <td>0.752144</td>\n      <td>21.164894</td>\n      <td>13.564894</td>\n      <td>192.812766</td>\n      <td>991.210638</td>\n      <td>2303.609574</td>\n      <td>1.118644</td>\n      <td>419.467312</td>\n      <td>458.639225</td>\n    </tr>\n    <tr>\n      <th>3756</th>\n      <td>33</td>\n      <td>2016-05-09</td>\n      <td>20226</td>\n      <td>99.151234</td>\n      <td>9.520122</td>\n      <td>10.636532</td>\n      <td>0.752144</td>\n      <td>1.954181</td>\n      <td>1.954181</td>\n      <td>0.752144</td>\n      <td>21.164894</td>\n      <td>13.564894</td>\n      <td>192.812766</td>\n      <td>991.210638</td>\n      <td>2303.609574</td>\n      <td>1.118644</td>\n      <td>419.467312</td>\n      <td>458.639225</td>\n    </tr>\n    <tr>\n      <th>3757</th>\n      <td>33</td>\n      <td>2016-05-10</td>\n      <td>10733</td>\n      <td>99.151234</td>\n      <td>9.520122</td>\n      <td>10.636532</td>\n      <td>0.752144</td>\n      <td>1.954181</td>\n      <td>1.954181</td>\n      <td>0.752144</td>\n      <td>21.164894</td>\n      <td>13.564894</td>\n      <td>192.812766</td>\n      <td>991.210638</td>\n      <td>2303.609574</td>\n      <td>1.118644</td>\n      <td>419.467312</td>\n      <td>458.639225</td>\n    </tr>\n    <tr>\n      <th>3758</th>\n      <td>33</td>\n      <td>2016-05-11</td>\n      <td>21420</td>\n      <td>99.151234</td>\n      <td>9.520122</td>\n      <td>10.636532</td>\n      <td>0.752144</td>\n      <td>1.954181</td>\n      <td>1.954181</td>\n      <td>0.752144</td>\n      <td>21.164894</td>\n      <td>13.564894</td>\n      <td>192.812766</td>\n      <td>991.210638</td>\n      <td>2303.609574</td>\n      <td>1.118644</td>\n      <td>419.467312</td>\n      <td>458.639225</td>\n    </tr>\n    <tr>\n      <th>3759</th>\n      <td>33</td>\n      <td>2016-05-12</td>\n      <td>8064</td>\n      <td>99.151234</td>\n      <td>9.520122</td>\n      <td>10.636532</td>\n      <td>0.752144</td>\n      <td>1.954181</td>\n      <td>1.954181</td>\n      <td>0.752144</td>\n      <td>21.164894</td>\n      <td>13.564894</td>\n      <td>192.812766</td>\n      <td>991.210638</td>\n      <td>2303.609574</td>\n      <td>1.118644</td>\n      <td>419.467312</td>\n      <td>458.639225</td>\n    </tr>\n  </tbody>\n</table>\n<p>3760 rows × 18 columns</p>\n</div>"
     },
     "execution_count": 165,
     "metadata": {},
     "output_type": "execute_result"
    }
   ],
   "source": [
    "df.fillna(df.mean(), inplace=True)\n",
    "df"
   ]
  },
  {
   "cell_type": "code",
   "execution_count": 166,
   "id": "8b85d3d9-b98e-4c4d-8981-5635f3748442",
   "metadata": {
    "execution": {
     "iopub.execute_input": "2024-02-29T17:46:15.337324Z",
     "iopub.status.busy": "2024-02-29T17:46:15.336328Z",
     "iopub.status.idle": "2024-02-29T17:46:15.901850Z",
     "shell.execute_reply": "2024-02-29T17:46:15.901850Z",
     "shell.execute_reply.started": "2024-02-29T17:46:15.337324Z"
    },
    "ExecuteTime": {
     "end_time": "2024-03-02T15:04:26.261290900Z",
     "start_time": "2024-03-02T15:04:25.904772600Z"
    }
   },
   "outputs": [
    {
     "name": "stdout",
     "output_type": "stream",
     "text": [
      "Descriptive Statistics for Steps:\n",
      "count     3760.000000\n",
      "mean      4642.660372\n",
      "std       4719.110284\n",
      "min          0.000000\n",
      "25%       1219.000000\n",
      "50%       2524.500000\n",
      "75%       7402.250000\n",
      "max      36019.000000\n",
      "Name: TotalSteps, dtype: float64\n",
      "\n",
      "Descriptive Statistics for Distance (in miles):\n",
      "count    3760.000000\n",
      "mean       99.151234\n",
      "std        85.840878\n",
      "min         0.000000\n",
      "25%         9.815000\n",
      "50%        99.151234\n",
      "75%        99.151234\n",
      "max       518.000000\n",
      "Name: TotalDistance, dtype: float64\n"
     ]
    },
    {
     "name": "stderr",
     "output_type": "stream",
     "text": [
      "C:\\Users\\talha\\AppData\\Local\\Temp\\ipykernel_11280\\613227481.py:15: UserWarning: FigureCanvasAgg is non-interactive, and thus cannot be shown\n",
      "  plt.show()\n"
     ]
    }
   ],
   "source": [
    "# Descriptive statistics for steps & distance\n",
    "steps_stats = df['TotalSteps'].describe()\n",
    "distance_stats = df['TotalDistance'].describe()\n",
    "\n",
    "print(\"Descriptive Statistics for Steps:\")\n",
    "print(steps_stats)\n",
    "print(\"\\nDescriptive Statistics for Distance (in miles):\")\n",
    "print(distance_stats)\n",
    "\n",
    "# Descriptive statistics\n",
    "fig, axs = plt.subplots(2, 1, figsize=(10, 8))\n",
    "df['TotalSteps'].plot(ax=axs[0], kind='hist', bins=20, title='Histogram of Total Steps')\n",
    "df['TotalDistance'].plot(ax=axs[1], kind='hist', bins=20, title='Histogram of Total Distance (in miles)')\n",
    "plt.tight_layout()\n",
    "plt.show()"
   ]
  },
  {
   "cell_type": "code",
   "execution_count": 168,
   "id": "acb4ff80-608c-4351-9e1a-96539863081e",
   "metadata": {
    "execution": {
     "iopub.execute_input": "2024-02-29T17:46:18.129790Z",
     "iopub.status.busy": "2024-02-29T17:46:18.128823Z",
     "iopub.status.idle": "2024-02-29T17:46:18.445366Z",
     "shell.execute_reply": "2024-02-29T17:46:18.444365Z",
     "shell.execute_reply.started": "2024-02-29T17:46:18.129790Z"
    },
    "ExecuteTime": {
     "end_time": "2024-03-02T15:04:49.581120500Z",
     "start_time": "2024-03-02T15:04:49.306354300Z"
    }
   },
   "outputs": [
    {
     "name": "stdout",
     "output_type": "stream",
     "text": [
      "Id\n",
      "1          inf\n",
      "2     0.055050\n",
      "3     0.055638\n",
      "4          inf\n",
      "5          inf\n",
      "6     0.071357\n",
      "7     0.132405\n",
      "8     0.064497\n",
      "9     0.168181\n",
      "10    0.088661\n",
      "11    0.093544\n",
      "12    0.101682\n",
      "13         inf\n",
      "14         inf\n",
      "15         inf\n",
      "16    0.085781\n",
      "17    0.084592\n",
      "18    0.082760\n",
      "19         inf\n",
      "20    0.099586\n",
      "21         inf\n",
      "22         inf\n",
      "23         inf\n",
      "24         inf\n",
      "25    0.114421\n",
      "26         inf\n",
      "27         inf\n",
      "28    0.045654\n",
      "29         inf\n",
      "30    0.066155\n",
      "31         inf\n",
      "32         inf\n",
      "33    0.063225\n",
      "Name: AvgStepLength, dtype: float64\n"
     ]
    },
    {
     "name": "stderr",
     "output_type": "stream",
     "text": [
      "C:\\Users\\talha\\AppData\\Local\\Temp\\ipykernel_11280\\229989509.py:12: UserWarning: FigureCanvasAgg is non-interactive, and thus cannot be shown\n",
      "  plt.show()\n"
     ]
    }
   ],
   "source": [
    "# Average length of a step for each person\n",
    "df['AvgStepLength'] = df['TotalDistance'] / df['TotalSteps']\n",
    "print(df.groupby('Id')['AvgStepLength'].mean())\n",
    "\n",
    "# Average step length for each person\n",
    "avg_step_length = df.groupby('Id')['AvgStepLength'].mean()\n",
    "avg_step_length.plot(kind='bar', figsize=(10, 6))\n",
    "plt.title('Average Step Length for Each Person')\n",
    "plt.xlabel('Person ID')\n",
    "plt.ylabel('Average Step Length (in miles)')\n",
    "plt.xticks(rotation=45)\n",
    "plt.show()"
   ]
  },
  {
   "cell_type": "code",
   "execution_count": 151,
   "id": "66447d22-693a-4dff-941d-735a06e22918",
   "metadata": {
    "execution": {
     "iopub.execute_input": "2024-02-29T17:46:20.801747Z",
     "iopub.status.busy": "2024-02-29T17:46:20.800750Z",
     "iopub.status.idle": "2024-02-29T17:46:21.097479Z",
     "shell.execute_reply": "2024-02-29T17:46:21.096479Z",
     "shell.execute_reply.started": "2024-02-29T17:46:20.801747Z"
    },
    "ExecuteTime": {
     "end_time": "2024-03-02T15:03:50.215284700Z",
     "start_time": "2024-03-02T15:03:49.929006100Z"
    }
   },
   "outputs": [
    {
     "name": "stdout",
     "output_type": "stream",
     "text": [
      "\n",
      "Calories Burned per Step for Each Individual:\n",
      "Id\n",
      "1     2181.812020\n",
      "2     2098.545891\n",
      "3     2430.532181\n",
      "4     2121.078149\n",
      "5     2270.908794\n",
      "6     2355.199116\n",
      "7     2112.868471\n",
      "8     2158.747503\n",
      "9     2238.568292\n",
      "10    2206.949116\n",
      "11    2210.982181\n",
      "12    2106.123848\n",
      "13    2324.158794\n",
      "14    2221.144681\n",
      "15    2237.126536\n",
      "16    2501.174923\n",
      "17    2274.255568\n",
      "18    2236.021697\n",
      "19    2469.094278\n",
      "20    2196.626536\n",
      "21    2567.615514\n",
      "22    2292.992895\n",
      "23    2377.612353\n",
      "24    2260.649489\n",
      "25    2223.215245\n",
      "26    2363.707181\n",
      "27    2369.295891\n",
      "28    2464.158794\n",
      "29    2174.707181\n",
      "30    2586.852342\n",
      "31    2410.715245\n",
      "32    2218.284767\n",
      "33    2582.771697\n",
      "Name: Calories, dtype: float64\n"
     ]
    },
    {
     "name": "stderr",
     "output_type": "stream",
     "text": [
      "C:\\Users\\talha\\AppData\\Local\\Temp\\ipykernel_11280\\3956701097.py:11: UserWarning: FigureCanvasAgg is non-interactive, and thus cannot be shown\n",
      "  plt.show()\n"
     ]
    }
   ],
   "source": [
    "print(\"\\nCalories Burned per Step for Each Individual:\")\n",
    "print(df.groupby('Id')['Calories'].mean())\n",
    "\n",
    "# Calories burned per step for each individual\n",
    "calories_per_step = df.groupby('Id')['Calories'].mean()\n",
    "calories_per_step.plot(kind='bar', figsize=(10, 6))\n",
    "plt.title('Calories Burned per Step for Each Individual')\n",
    "plt.xlabel('Person ID')\n",
    "plt.ylabel('Calories Burned per Step')\n",
    "plt.xticks(rotation=45)\n",
    "plt.show()"
   ]
  },
  {
   "cell_type": "code",
   "execution_count": 169,
   "id": "70c4891f-b94e-4354-8d54-013569c54d91",
   "metadata": {
    "execution": {
     "iopub.execute_input": "2024-02-29T17:46:24.513334Z",
     "iopub.status.busy": "2024-02-29T17:46:24.512366Z",
     "iopub.status.idle": "2024-02-29T17:46:24.520570Z",
     "shell.execute_reply": "2024-02-29T17:46:24.520570Z",
     "shell.execute_reply.started": "2024-02-29T17:46:24.512366Z"
    },
    "ExecuteTime": {
     "end_time": "2024-03-02T15:04:55.066182900Z",
     "start_time": "2024-03-02T15:04:55.054476Z"
    }
   },
   "outputs": [
    {
     "name": "stdout",
     "output_type": "stream",
     "text": [
      "Correlation between Light Activity Distance and Very Active Minutes: 0.10663481177875173\n",
      "Correlation between Moderate Activity Distance and Very Active Minutes: 0.06717610672692782\n",
      "Correlation between Very Active Distance and Very Active Minutes: 0.7677102898409658\n"
     ]
    }
   ],
   "source": [
    "correlation_light = df['LightActiveDistance'].corr(df['VeryActiveMinutes'])\n",
    "correlation_moderate = df['ModeratelyActiveDistance'].corr(df['VeryActiveMinutes'])\n",
    "correlation_very = df['VeryActiveDistance'].corr(df['VeryActiveMinutes'])\n",
    "\n",
    "print(\"Correlation between Light Activity Distance and Very Active Minutes:\", correlation_light)\n",
    "print(\"Correlation between Moderate Activity Distance and Very Active Minutes:\", correlation_moderate)\n",
    "print(\"Correlation between Very Active Distance and Very Active Minutes:\", correlation_very)"
   ]
  },
  {
   "cell_type": "code",
   "execution_count": 153,
   "id": "5bbaecc0-2f61-48aa-addf-723c22e19d32",
   "metadata": {
    "execution": {
     "iopub.execute_input": "2024-02-29T17:46:29.448581Z",
     "iopub.status.busy": "2024-02-29T17:46:29.447584Z",
     "iopub.status.idle": "2024-02-29T17:46:29.813074Z",
     "shell.execute_reply": "2024-02-29T17:46:29.812038Z",
     "shell.execute_reply.started": "2024-02-29T17:46:29.448581Z"
    },
    "ExecuteTime": {
     "end_time": "2024-03-02T15:03:50.485467Z",
     "start_time": "2024-03-02T15:03:50.219273900Z"
    }
   },
   "outputs": [
    {
     "name": "stderr",
     "output_type": "stream",
     "text": [
      "C:\\Users\\talha\\AppData\\Local\\Temp\\ipykernel_11280\\1359720205.py:10: UserWarning: FigureCanvasAgg is non-interactive, and thus cannot be shown\n",
      "  plt.show()\n"
     ]
    }
   ],
   "source": [
    "# relevant columns for correlation analysis\n",
    "cols_for_correlation = ['VeryActiveMinutes', 'ModeratelyActiveDistance', 'LightActiveDistance', 'SedentaryActiveDistance', \n",
    "                        'TotalSteps', 'TotalDistance', 'Calories']\n",
    "\n",
    "corr_matrix = df[cols_for_correlation].corr()\n",
    "\n",
    "plt.figure(figsize=(10, 8))\n",
    "sns.heatmap(corr_matrix, annot=True, cmap='coolwarm', fmt=\".2f\", annot_kws={\"size\": 10})\n",
    "plt.title('Correlation Map')\n",
    "plt.show()"
   ]
  },
  {
   "cell_type": "code",
   "execution_count": 171,
   "id": "2be4ed2f-1246-4263-9f76-2e99f9940c13",
   "metadata": {
    "execution": {
     "iopub.execute_input": "2024-02-29T17:57:23.478991Z",
     "iopub.status.busy": "2024-02-29T17:57:23.477996Z",
     "iopub.status.idle": "2024-02-29T17:57:23.870886Z",
     "shell.execute_reply": "2024-02-29T17:57:23.870886Z",
     "shell.execute_reply.started": "2024-02-29T17:57:23.478991Z"
    },
    "ExecuteTime": {
     "end_time": "2024-03-02T15:05:05.184722200Z",
     "start_time": "2024-03-02T15:05:04.691824300Z"
    }
   },
   "outputs": [
    {
     "name": "stdout",
     "output_type": "stream",
     "text": [
      "Mean Absolute Error (Random Forest): 85.85415034166144\n",
      "Accuracy of interval predictions: 0.39759036144578314\n"
     ]
    }
   ],
   "source": [
    "# Read the CSV file\n",
    "df = pd.read_csv(\"data.csv\")\n",
    "\n",
    "# Drop rows with missing values in both X and y\n",
    "df.dropna(subset=['TotalSteps', 'Calories', 'VeryActiveMinutes', \n",
    "                  'FairlyActiveMinutes', 'LightlyActiveMinutes', \n",
    "                  'SedentaryMinutes', 'TotalMinutesAsleep'], inplace=True)\n",
    "\n",
    "# Feature Engineering\n",
    "# Creating additional features or transformations\n",
    "df['TotalActivityMinutes'] = df['VeryActiveMinutes'] + df['FairlyActiveMinutes'] + df['LightlyActiveMinutes']\n",
    "df['HighIntensityActivity'] = (df['VeryActiveMinutes'] > 30) | (df['FairlyActiveMinutes'] > 30)\n",
    "\n",
    "# Select relevant features and target variable\n",
    "X = df[['TotalSteps', 'Calories', 'VeryActiveMinutes', 'FairlyActiveMinutes', \n",
    "        'LightlyActiveMinutes', 'SedentaryMinutes', 'TotalActivityMinutes', 'HighIntensityActivity']]\n",
    "y = df['TotalMinutesAsleep']  # Assuming 'TotalMinutesAsleep' is the target variable\n",
    "\n",
    "# Split the data into training and testing sets\n",
    "X_train, X_test, y_train, y_test = train_test_split(X, y, test_size=0.2, random_state=42)\n",
    "\n",
    "# Initialize and train the Random Forest Regressor model\n",
    "model = RandomForestRegressor(random_state=42)\n",
    "model.fit(X_train, y_train)\n",
    "\n",
    "# Make predictions\n",
    "y_pred = model.predict(X_test)\n",
    "\n",
    "# Evaluate the model\n",
    "mae = mean_absolute_error(y_test, y_pred)\n",
    "print(\"Mean Absolute Error (Random Forest):\", mae)\n",
    "\n",
    "# Convert continuous predictions to intervals\n",
    "def convert_to_intervals(minutes):\n",
    "    intervals = []\n",
    "    for minute in minutes:\n",
    "        if minute < 240:\n",
    "            intervals.append('Less than 4 hours')\n",
    "        elif minute < 420:\n",
    "            intervals.append('4-7 hours')\n",
    "        elif minute < 600:\n",
    "            intervals.append('7-10 hours')\n",
    "        else:\n",
    "            intervals.append('More than 10 hours')\n",
    "    return intervals\n",
    "\n",
    "# Convert predictions to intervals\n",
    "y_pred_intervals = convert_to_intervals(y_pred)\n",
    "\n",
    "# Evaluate intervals\n",
    "y_test_intervals = convert_to_intervals(y_test)\n",
    "accuracy = sum(1 for pred, true in zip(y_pred_intervals, y_test_intervals) if pred == true) / len(y_test_intervals)\n",
    "print(\"Accuracy of interval predictions:\", accuracy)\n",
    "\n"
   ]
  },
  {
   "cell_type": "markdown",
   "id": "d5e8dac7-ad3b-4cc2-92e2-d78612892342",
   "metadata": {},
   "source": [
    "The mean absolute error (MAE) of approximately 85.85 indicates the average absolute difference between the predicted and actual values of sleep duration in minutes. In this case, a MAE of 85.85 means that, on average, the predictions of the Random Forest model are off by approximately 85.85 minutes from the true sleep duration.\n",
    "\n",
    "The accuracy of interval predictions of approximately 39.76% indicates the proportion of correctly predicted sleep duration intervals out of all predictions made. In other words, out of all the sleep duration predictions made by converting continuous predictions into intervals, approximately 39.76% of them match the true intervals present in the test data.\n",
    "\n",
    "Interpreting these results:\n",
    "\n",
    "The MAE value indicates the model's overall performance in predicting sleep duration in minutes. Lower MAE values indicate better performance, as they indicate smaller discrepancies between predicted and actual values.\n",
    "The accuracy of interval predictions provides an understanding of how well the model performs when sleep duration is categorized into intervals. Higher accuracy values indicate better performance, as they indicate a higher proportion of correctly predicted intervals.\n",
    "In this case, the MAE value suggests that the model's predictions of sleep duration in minutes have a moderate level of error, while the accuracy of interval predictions indicates that the model's performance in predicting sleep duration intervals is relatively low. Further improvements to the model, such as feature engineering, hyperparameter tuning, or trying different algorithms, may help enhance prediction accuracy."
   ]
  },
  {
   "cell_type": "code",
   "outputs": [
    {
     "name": "stdout",
     "output_type": "stream",
     "text": [
      "Running on local URL:  http://127.0.0.1:7908\n",
      "\n",
      "To create a public link, set `share=True` in `launch()`.\n"
     ]
    },
    {
     "data": {
      "text/plain": "<IPython.core.display.HTML object>",
      "text/html": "<div><iframe src=\"http://127.0.0.1:7908/\" width=\"100%\" height=\"500\" allow=\"autoplay; camera; microphone; clipboard-read; clipboard-write;\" frameborder=\"0\" allowfullscreen></iframe></div>"
     },
     "metadata": {},
     "output_type": "display_data"
    },
    {
     "data": {
      "text/plain": ""
     },
     "execution_count": 160,
     "metadata": {},
     "output_type": "execute_result"
    }
   ],
   "source": [
    "def calculate_sleep_quality_and_time(total_minutes_asleep, total_time_in_bed):\n",
    "    # Calculate sleep duration in hours\n",
    "    sleep_duration_hours = total_minutes_asleep / 60\n",
    "    \n",
    "    # Calculate time in bed in hours\n",
    "    time_in_bed_hours = total_time_in_bed / 60\n",
    "\n",
    "    # Convert time in bed to hours and minutes\n",
    "    time_in_bed_minutes = int((time_in_bed_hours % 1) * 60)  # Extract minutes\n",
    "    time_in_bed_hours = int(time_in_bed_hours)  # Extract hours\n",
    "    \n",
    "    # Predict sleep quality based on sleep duration\n",
    "    if sleep_duration_hours >= 7:\n",
    "        sleep_quality = \"Average\"\n",
    "    elif 5 <= sleep_duration_hours < 7:\n",
    "        sleep_quality = \"Good\"\n",
    "    else:\n",
    "        sleep_quality = \"Bad\"\n",
    "    \n",
    "    # Output the results\n",
    "    result = f\"Sleep quality: {sleep_quality}\\nTotal time in bed: {time_in_bed_hours} hours and {time_in_bed_minutes} minutes\"\n",
    "    return result\n",
    "\n",
    "def calculate_caloric_expenditure_and_health(calories):\n",
    "    # Calculate healthy calorie burn (e.g., based on BMR and activity level)\n",
    "    healthy_calories_burn = 2000  # Example: Assume a healthy calorie burn goal of 2000 calories\n",
    "    \n",
    "    # Determine if calorie burn is healthy or not\n",
    "    if calories >= healthy_calories_burn:\n",
    "        health_status = \"Healthy\"\n",
    "    else:\n",
    "        health_status = \"Unhealthy\"\n",
    "    \n",
    "    # Output the results\n",
    "    result = f\"Calories burned: {calories}\\nHealthy calorie burn goal: {healthy_calories_burn} calories\\nHealth status: {health_status}\"\n",
    "    return result\n",
    "\n",
    "def analyze_activity_trends(total_steps, total_distance):\n",
    "    # Analyze trends in Total Steps and Total Distance\n",
    "    if total_steps >= 10000:\n",
    "        steps_trend = \"High\"\n",
    "    elif 5000 <= total_steps < 10000:\n",
    "        steps_trend = \"Moderate\"\n",
    "    else:\n",
    "        steps_trend = \"Low\"\n",
    "    \n",
    "    if total_distance >= 8:\n",
    "        distance_trend = \"High\"\n",
    "    elif 4 <= total_distance < 8:\n",
    "        distance_trend = \"Moderate\"\n",
    "    else:\n",
    "        distance_trend = \"Low\"\n",
    "    \n",
    "    # Output the results\n",
    "    result = f\"Total Steps Trend: {steps_trend}\\nTotal Distance Trend: {distance_trend}\"\n",
    "    return result\n",
    "\n",
    "def calculate_all_functions(total_minutes_asleep, total_time_in_bed, calories, total_steps, total_distance):\n",
    "    sleep_result = calculate_sleep_quality_and_time(total_minutes_asleep, total_time_in_bed)\n",
    "    calorie_result = calculate_caloric_expenditure_and_health(calories)\n",
    "    activity_result = analyze_activity_trends(total_steps, total_distance)\n",
    "    \n",
    "    combined_result = f\"Sleep Quality and Time:\\n{sleep_result}\\n\\nCaloric Expenditure and Health:\\n{calorie_result}\\n\\nActivity Trends:\\n{activity_result}\"\n",
    "    return combined_result\n",
    "\n",
    "# Create the Gradio interface with tabs\n",
    "with gr.Blocks() as demo:\n",
    "    gr.Markdown(\"# Health and Fitness Analysis\")\n",
    "    \n",
    "    with gr.Tab(\"All Functions\"):\n",
    "        \n",
    "        with gr.Tab(\"All Functions\"):\n",
    "                with gr.Row():\n",
    "                    with gr.Column():\n",
    "                        all_inputs = [\n",
    "                            gr.Number(label=\"Total Minutes Asleep\"),\n",
    "                            gr.Number(label=\"Total Time in Bed (minutes)\"),\n",
    "                            gr.Number(label=\"Total Calories Burned\"),\n",
    "                            gr.Number(label=\"Total Steps\"),\n",
    "                            gr.Number(label=\"Total Distance (in miles)\")\n",
    "                        ]\n",
    "                    with gr.Column():\n",
    "                        all_output = gr.Textbox(label=\"Combined Results\")\n",
    "                        all_button = gr.Button(\"Calculate All\")\n",
    "                        all_button.click(calculate_all_functions, inputs=all_inputs, outputs=all_output)\n",
    "                    \n",
    "        # with gr.Row():\n",
    "        #     with gr.Column():\n",
    "        #         sleep_inputs_all = [\n",
    "        #             gr.Number(label=\"Total Minutes Asleep\"),\n",
    "        #             gr.Number(label=\"Total Time in Bed (minutes)\")\n",
    "        #         ]\n",
    "        #         sleep_output_all = gr.Textbox(label=\"Sleep Quality and Time\")\n",
    "        #         sleep_button_all = gr.Button(\"Calculate Sleep\")\n",
    "        #         sleep_button_all.click(calculate_sleep_quality_and_time, inputs=sleep_inputs_all, outputs=sleep_output_all)\n",
    "        #     \n",
    "        #     with gr.Column():\n",
    "        #         calorie_input_all = gr.Number(label=\"Total Calories Burned\")\n",
    "        #         calorie_output_all = gr.Textbox(label=\"Caloric Expenditure and Health\")\n",
    "        #         calorie_button_all = gr.Button(\"Calculate Calories\")\n",
    "        #         calorie_button_all.click(calculate_caloric_expenditure_and_health, inputs=calorie_input_all, outputs=calorie_output_all)\n",
    "        #     \n",
    "        #     with gr.Column():\n",
    "        #         activity_inputs_all = [\n",
    "        #             gr.Number(label=\"Total Steps\"),\n",
    "        #             gr.Number(label=\"Total Distance (in miles)\")\n",
    "        #         ]\n",
    "        #         activity_output_all = gr.Textbox(label=\"Activity Trends\")\n",
    "        #         activity_button_all = gr.Button(\"Analyze Activity\")\n",
    "        #         activity_button_all.click(analyze_activity_trends, inputs=activity_inputs_all, outputs=activity_output_all)\n",
    "    \n",
    "    with gr.Tab(\"Sleep Quality\"):\n",
    "        sleep_inputs = [\n",
    "            gr.Number(label=\"Total Minutes Asleep\"),\n",
    "            gr.Number(label=\"Total Time in Bed (minutes)\")\n",
    "        ]\n",
    "        sleep_output = gr.Textbox(label=\"Sleep Quality and Time\")\n",
    "        sleep_button = gr.Button(\"Calculate\")\n",
    "        sleep_button.click(calculate_sleep_quality_and_time, inputs=sleep_inputs, outputs=sleep_output)\n",
    "    \n",
    "    with gr.Tab(\"Caloric Expenditure\"):\n",
    "        calorie_input = gr.Number(label=\"Total Calories Burned\")\n",
    "        calorie_output = gr.Textbox(label=\"Caloric Expenditure and Health\")\n",
    "        calorie_button = gr.Button(\"Calculate\")\n",
    "        calorie_button.click(calculate_caloric_expenditure_and_health, inputs=calorie_input, outputs=calorie_output)\n",
    "    \n",
    "    with gr.Tab(\"Activity Trends\"):\n",
    "        activity_inputs = [\n",
    "            gr.Number(label=\"Total Steps\"),\n",
    "            gr.Number(label=\"Total Distance (in miles)\")\n",
    "        ]\n",
    "        activity_output = gr.Textbox(label=\"Activity Trends\")\n",
    "        activity_button = gr.Button(\"Analyze\")\n",
    "        activity_button.click(analyze_activity_trends, inputs=activity_inputs, outputs=activity_output)\n",
    "\n",
    "demo.launch()"
   ],
   "metadata": {
    "collapsed": false,
    "ExecuteTime": {
     "end_time": "2024-03-02T15:03:54.136936300Z",
     "start_time": "2024-03-02T15:03:52.145897900Z"
    }
   },
   "id": "74b3ff90a3d1a5d5",
   "execution_count": 160
  },
  {
   "cell_type": "code",
   "outputs": [
    {
     "name": "stdout",
     "output_type": "stream",
     "text": [
      "Total minutes in sleep: 1140\n",
      "Total time in bed: 1260\n"
     ]
    }
   ],
   "source": [
    "def calculate_sleep_quality_and_time(total_minutes_asleep, total_time_in_bed):\n",
    "    # Calculate sleep duration in hours\n",
    "    sleep_duration_hours = total_minutes_asleep / 60\n",
    "    \n",
    "    # Calculate time in bed in hours\n",
    "    time_in_bed_hours = total_time_in_bed / 60\n",
    "\n",
    "    # Convert time in bed to hours and minutes\n",
    "    time_in_bed_minutes = int((time_in_bed_hours % 1) * 60)  # Extract minutes\n",
    "    time_in_bed_hours = int(time_in_bed_hours)  # Extract hours\n",
    "    \n",
    "    # Predict sleep quality based on sleep duration\n",
    "    if sleep_duration_hours >= 7:\n",
    "        sleep_quality = \"Average\"\n",
    "    elif 5 <= sleep_duration_hours < 7:\n",
    "        sleep_quality = \"Good\"\n",
    "    else:\n",
    "        sleep_quality = \"Bad\"\n",
    "    \n",
    "    # Output the results\n",
    "    result = f\"Sleep quality: {sleep_quality}\\nTotal time in bed: {time_in_bed_hours} hours and {time_in_bed_minutes} minutes\"\n",
    "    return result\n",
    "\n",
    "# Sample sleep data (assuming each entry is in minutes)\n",
    "sleep_data = [\n",
    "    {\"total_minutes_asleep\": 360, \"total_time_in_bed\": 420},  # 6 hours of sleep in 7 hours in bed\n",
    "    {\"total_minutes_asleep\": 480, \"total_time_in_bed\": 480},  # 8 hours of sleep in 8 hours in bed\n",
    "    {\"total_minutes_asleep\": 300, \"total_time_in_bed\": 360},  # 5 hours of sleep in 6 hours in bed\n",
    "]\n",
    "\n",
    "# Calculate total minutes in sleep and total time in bed\n",
    "total_minutes_in_sleep = sum(entry[\"total_minutes_asleep\"] for entry in sleep_data)\n",
    "total_time_in_bed = sum(entry[\"total_time_in_bed\"] for entry in sleep_data)\n",
    "\n",
    "# Display results\n",
    "print(\"Total minutes in sleep:\", total_minutes_in_sleep)\n",
    "print(\"Total time in bed:\", total_time_in_bed)\n",
    "\n",
    "interface = gr.Interface(\n",
    "    fn=calculate_sleep_quality_and_time,\n",
    "    inputs=[\"number\", \"number\"],\n",
    "    outputs=\"text\",\n",
    "    title=\"Sleep Quality Predictor\",\n",
    "    description=\"Enter your sleep data to predict sleep quality and total time in bed in hours.\"\n",
    ")\n",
    "\n",
    "# interface.launch()\n"
   ],
   "metadata": {
    "execution": {
     "iopub.execute_input": "2024-02-29T18:11:36.063618Z",
     "iopub.status.busy": "2024-02-29T18:11:36.063618Z",
     "iopub.status.idle": "2024-02-29T18:11:36.086788Z",
     "shell.execute_reply": "2024-02-29T18:11:36.085787Z",
     "shell.execute_reply.started": "2024-02-29T18:11:36.063618Z"
    },
    "ExecuteTime": {
     "end_time": "2024-03-02T15:05:08.890681Z",
     "start_time": "2024-03-02T15:05:08.272336700Z"
    }
   },
   "id": "e19dbc1b-8bbf-4279-bdb3-6fb342aa972d",
   "execution_count": 172
  },
  {
   "cell_type": "code",
   "outputs": [],
   "source": [
    "\n",
    "def calculate_caloric_expenditure_and_health(calories):\n",
    "    # Calculate healthy calorie burn (e.g., based on BMR and activity level)\n",
    "    healthy_calories_burn = 2000  # Example: Assume a healthy calorie burn goal of 2000 calories\n",
    "    \n",
    "    # Determine if calorie burn is healthy or not\n",
    "    if calories >= healthy_calories_burn:\n",
    "        health_status = \"Healthy\"\n",
    "    else:\n",
    "        health_status = \"Unhealthy\"\n",
    "    \n",
    "    # Output the results\n",
    "    result = f\"Calories burned: {calories}\\nHealthy calorie burn goal: {healthy_calories_burn} calories\\nHealth status: {health_status}\"\n",
    "    return result\n",
    "\n",
    "interface = gr.Interface(\n",
    "    fn=calculate_caloric_expenditure_and_health,\n",
    "    inputs=gr.Number(label=\"Enter total calories burned...\"),\n",
    "    outputs=\"text\",\n",
    "    title=\"Caloric Expenditure & Health Predictor\",\n",
    "    description=\"Enter total calories burned to predict health status based on a healthy calorie burn goal.\"\n",
    ")\n",
    "\n",
    "# interface.launch()\n"
   ],
   "metadata": {
    "ExecuteTime": {
     "end_time": "2024-03-02T15:05:22.150829200Z",
     "start_time": "2024-03-02T15:05:22.024192700Z"
    }
   },
   "id": "19db01e5-3716-484a-8534-3165bd980153",
   "execution_count": 175
  },
  {
   "cell_type": "code",
   "outputs": [],
   "source": [
    "import gradio as gr\n",
    "import pandas as pd\n",
    "\n",
    "\n",
    "def analyze_activity_trends(total_steps, total_distance):\n",
    "    # Analyze trends in Total Steps and Total Distance\n",
    "    if total_steps >= 10000:\n",
    "        steps_trend = \"High\"\n",
    "    elif 5000 <= total_steps < 10000:\n",
    "        steps_trend = \"Moderate\"\n",
    "    else:\n",
    "        steps_trend = \"Low\"\n",
    "    \n",
    "    if total_distance >= 8:\n",
    "        distance_trend = \"High\"\n",
    "    elif 4 <= total_distance < 8:\n",
    "        distance_trend = \"Moderate\"\n",
    "    else:\n",
    "        distance_trend = \"Low\"\n",
    "    \n",
    "    # Output the results\n",
    "    result = f\"Total Steps Trend: {steps_trend}\\nTotal Distance Trend: {distance_trend}\"\n",
    "    return result\n",
    "\n",
    "interface = gr.Interface(\n",
    "    fn=analyze_activity_trends,\n",
    "    inputs=[\n",
    "        gr.Number(label=\"Total Steps\"),\n",
    "        gr.Number(label=\"Total Distance (in miles)\")\n",
    "    ],\n",
    "    outputs=\"text\",\n",
    "    title=\"Activity Trends Analyzer\",\n",
    "    description=\"Analyze trends in Total Steps and Total Distance to understand daily activity levels and patterns.\"\n",
    ")\n",
    "\n",
    "# interface.launch()\n"
   ],
   "metadata": {
    "collapsed": false,
    "ExecuteTime": {
     "end_time": "2024-03-02T15:05:11.706938200Z",
     "start_time": "2024-03-02T15:05:11.579303100Z"
    }
   },
   "id": "46b3e7f9662b770d",
   "execution_count": 173
  },
  {
   "cell_type": "code",
   "outputs": [],
   "source": [],
   "metadata": {
    "collapsed": false,
    "ExecuteTime": {
     "end_time": "2024-03-02T15:03:54.137932200Z",
     "start_time": "2024-03-02T15:03:54.124963900Z"
    }
   },
   "id": "ea38c0056c360101",
   "execution_count": 160
  }
 ],
 "metadata": {
  "kernelspec": {
   "display_name": "Python 3 (ipykernel)",
   "language": "python",
   "name": "python3"
  },
  "language_info": {
   "codemirror_mode": {
    "name": "ipython",
    "version": 3
   },
   "file_extension": ".py",
   "mimetype": "text/x-python",
   "name": "python",
   "nbconvert_exporter": "python",
   "pygments_lexer": "ipython3",
   "version": "3.12.2"
  }
 },
 "nbformat": 4,
 "nbformat_minor": 5
}
